{
 "cells": [
  {
   "cell_type": "code",
   "execution_count": 17,
   "metadata": {},
   "outputs": [],
   "source": [
    "#importing libraries\n",
    "\n",
    "import pandas as pd\n",
    "import numpy as np\n",
    "import math\n"
   ]
  },
  {
   "cell_type": "code",
   "execution_count": 18,
   "metadata": {},
   "outputs": [],
   "source": [
    "#import data set\n",
    "df = pd.read_csv(\"Data/insurance.csv\")"
   ]
  },
  {
   "cell_type": "code",
   "execution_count": 19,
   "metadata": {},
   "outputs": [
    {
     "data": {
      "text/html": [
       "<div>\n",
       "<style scoped>\n",
       "    .dataframe tbody tr th:only-of-type {\n",
       "        vertical-align: middle;\n",
       "    }\n",
       "\n",
       "    .dataframe tbody tr th {\n",
       "        vertical-align: top;\n",
       "    }\n",
       "\n",
       "    .dataframe thead th {\n",
       "        text-align: right;\n",
       "    }\n",
       "</style>\n",
       "<table border=\"1\" class=\"dataframe\">\n",
       "  <thead>\n",
       "    <tr style=\"text-align: right;\">\n",
       "      <th></th>\n",
       "      <th>age</th>\n",
       "      <th>affordability</th>\n",
       "      <th>have_insurance</th>\n",
       "    </tr>\n",
       "  </thead>\n",
       "  <tbody>\n",
       "    <tr>\n",
       "      <th>0</th>\n",
       "      <td>22</td>\n",
       "      <td>1</td>\n",
       "      <td>0</td>\n",
       "    </tr>\n",
       "    <tr>\n",
       "      <th>1</th>\n",
       "      <td>25</td>\n",
       "      <td>0</td>\n",
       "      <td>0</td>\n",
       "    </tr>\n",
       "    <tr>\n",
       "      <th>2</th>\n",
       "      <td>47</td>\n",
       "      <td>1</td>\n",
       "      <td>1</td>\n",
       "    </tr>\n",
       "    <tr>\n",
       "      <th>3</th>\n",
       "      <td>52</td>\n",
       "      <td>0</td>\n",
       "      <td>0</td>\n",
       "    </tr>\n",
       "    <tr>\n",
       "      <th>4</th>\n",
       "      <td>46</td>\n",
       "      <td>1</td>\n",
       "      <td>1</td>\n",
       "    </tr>\n",
       "  </tbody>\n",
       "</table>\n",
       "</div>"
      ],
      "text/plain": [
       "   age  affordability  have_insurance\n",
       "0   22              1               0\n",
       "1   25              0               0\n",
       "2   47              1               1\n",
       "3   52              0               0\n",
       "4   46              1               1"
      ]
     },
     "execution_count": 19,
     "metadata": {},
     "output_type": "execute_result"
    }
   ],
   "source": [
    "df.head()"
   ]
  },
  {
   "cell_type": "code",
   "execution_count": 20,
   "metadata": {},
   "outputs": [],
   "source": [
    "#implementing perceptron on insurance data set\n",
    "\n",
    "#splitting data set into dependent and independent variables\n",
    "X = df.iloc[:, :-1].values\n",
    "y = df.iloc[:, -1].values\n"
   ]
  },
  {
   "cell_type": "code",
   "execution_count": 21,
   "metadata": {},
   "outputs": [
    {
     "name": "stdout",
     "output_type": "stream",
     "text": [
      "[0 0 1 0 1 1 0 1 1 1 0 0 1]\n",
      "[[22  1]\n",
      " [25  0]\n",
      " [47  1]\n",
      " [52  0]\n",
      " [46  1]\n",
      " [56  1]\n",
      " [55  0]\n",
      " [60  0]\n",
      " [62  1]\n",
      " [61  1]\n",
      " [18  1]\n",
      " [28  1]\n",
      " [27  0]]\n"
     ]
    }
   ],
   "source": [
    "#printing dependent and independent variables\n",
    " \n",
    "#dependent variable\n",
    "print(y)\n",
    "#independent variables\n",
    "print(X)"
   ]
  },
  {
   "cell_type": "code",
   "execution_count": 22,
   "metadata": {},
   "outputs": [],
   "source": [
    "#implementing sigmoid function\n",
    "def sigmoid(y):\n",
    "    return round(1/(1+np.exp(-y)),2)"
   ]
  },
  {
   "cell_type": "code",
   "execution_count": 23,
   "metadata": {},
   "outputs": [],
   "source": [
    "#creating perceptron model\n",
    "\n",
    "#in this case x1 and x2 are independent variables, age and affordability\n",
    "def perceptron(x1,x2,w1,w2,b):\n",
    "    y = x1*w1 + x2*w2 + b\n",
    "    #performing sigmoid function\n",
    "    z = sigmoid(y)\n",
    "    #applying threshold\n",
    "    if z < 0.5:\n",
    "        return 0\n",
    "    else:\n",
    "        return 1\n",
    "    \n",
    "\n",
    "        \n",
    "        \n",
    "    \n"
   ]
  },
  {
   "cell_type": "code",
   "execution_count": 24,
   "metadata": {},
   "outputs": [],
   "source": [
    "#making function to get error\n",
    "def error(y_true, y_pred):\n",
    "    epsilon = 1e-15  # small value to avoid log(0)\n",
    "    y_pred = max(epsilon, min(1 - epsilon, y_pred))  # clip predicted values to avoid log(0) or log(1)\n",
    "    loss = - (y_true * math.log(y_pred) + (1 - y_true) * math.log(1 - y_pred))\n",
    "    return round(loss,2)"
   ]
  },
  {
   "cell_type": "code",
   "execution_count": 25,
   "metadata": {},
   "outputs": [],
   "source": [
    "#implementing log loss function or binary cross entropy\n",
    "def log_loss(X,y,w1,w2,b,n):\n",
    "    total_error = 0\n",
    "    for i in range(n):\n",
    "        perceptron_output = perceptron(X[i][0],X[i][1],w1,w2,b)\n",
    "\n",
    "        \n",
    "        #for each iteration we will get error\n",
    "        error_output = error(y[i],perceptron_output)\n",
    "        #adding error to total error\n",
    "        total_error += error_output\n",
    "    \n",
    "    #returning average error\n",
    "    return total_error/n\n",
    "\n"
   ]
  },
  {
   "attachments": {},
   "cell_type": "markdown",
   "metadata": {},
   "source": [
    "**updating weights and bias**\n",
    "\n",
    "w1 = w1 - learning_rate *  derivative of log loss function with respect to w1\n",
    "w2 = w2 - learning_rate * derivative of log loss function with respect to w2\n",
    "b = b - learning_rate * derivative of log loss function with respect to b"
   ]
  },
  {
   "cell_type": "code",
   "execution_count": 26,
   "metadata": {},
   "outputs": [],
   "source": [
    "#implementing derivative of log loss function with respect to w1\n",
    "def derivative_w1(X,y,w1,w2,b,n):\n",
    "    total_error = 0\n",
    "    for i in range(n):\n",
    "        perceptron_output = perceptron(X[i][0],X[i][1],w1,w2,b)\n",
    "        error_output = error(y[i],perceptron_output)\n",
    "        total_error += (error_output*X[i][0])\n",
    "    return total_error/n\n"
   ]
  },
  {
   "cell_type": "code",
   "execution_count": 27,
   "metadata": {},
   "outputs": [],
   "source": [
    "def derivative_w2(X,y,w1,w2,b,n):\n",
    "    total_error = 0\n",
    "    for i in range(n):\n",
    "        perceptron_output = perceptron(X[i][0],X[i][1],w1,w2,b)\n",
    "        error_output = error(y[i],perceptron_output)\n",
    "        total_error += (error_output*X[i][1])\n",
    "    return total_error/n"
   ]
  },
  {
   "cell_type": "code",
   "execution_count": 28,
   "metadata": {},
   "outputs": [],
   "source": [
    "def derivative_b(X,y,w1,w2,b,n):\n",
    "    total_error = 0\n",
    "    for i in range(n):\n",
    "        perceptron_output = perceptron(X[i][0],X[i][1],w1,w2,b)\n",
    "        error_output = error(y[i],perceptron_output)\n",
    "        total_error += (error_output)\n",
    "    return total_error/n"
   ]
  },
  {
   "cell_type": "code",
   "execution_count": 29,
   "metadata": {},
   "outputs": [
    {
     "name": "stdout",
     "output_type": "stream",
     "text": [
      "epoch no. 1 of 10\n",
      "_____________\n",
      "\n",
      "w1 =  1\n",
      "w2 =  0\n",
      "b   =  0\n",
      "\n",
      "avg log loss 15.94153846153846\n",
      "------------------\n",
      "\n",
      "epoch no. 2 of 10\n",
      "_____________\n",
      "\n",
      "w1 =  -52.13846153846154\n",
      "w2 =  -1.3284615384615384\n",
      "b   =  -1.8598461538461537\n",
      "\n",
      "avg log loss 18.598461538461535\n",
      "------------------\n",
      "\n",
      "epoch no. 3 of 10\n",
      "_____________\n",
      "\n",
      "w1 =  -147.52200000000002\n",
      "w2 =  -2.6569230769230767\n",
      "b   =  -3.7196923076923074\n",
      "\n",
      "avg log loss 18.598461538461535\n",
      "------------------\n",
      "\n",
      "epoch no. 4 of 10\n",
      "_____________\n",
      "\n",
      "w1 =  -242.9055384615385\n",
      "w2 =  -3.985384615384615\n",
      "b   =  -5.579538461538461\n",
      "\n",
      "avg log loss 18.598461538461535\n",
      "------------------\n",
      "\n",
      "epoch no. 5 of 10\n",
      "_____________\n",
      "\n",
      "w1 =  -338.289076923077\n",
      "w2 =  -5.313846153846153\n",
      "b   =  -7.439384615384615\n",
      "\n",
      "avg log loss 18.598461538461535\n",
      "------------------\n",
      "\n",
      "epoch no. 6 of 10\n",
      "_____________\n",
      "\n",
      "w1 =  -433.6726153846155\n",
      "w2 =  -6.642307692307692\n",
      "b   =  -9.299230769230768\n",
      "\n",
      "avg log loss 18.598461538461535\n",
      "------------------\n",
      "\n",
      "epoch no. 7 of 10\n",
      "_____________\n",
      "\n",
      "w1 =  -529.056153846154\n",
      "w2 =  -7.97076923076923\n",
      "b   =  -11.15907692307692\n",
      "\n",
      "avg log loss 18.598461538461535\n",
      "------------------\n",
      "\n",
      "epoch no. 8 of 10\n",
      "_____________\n",
      "\n",
      "w1 =  -624.4396923076924\n",
      "w2 =  -9.299230769230768\n",
      "b   =  -13.018923076923073\n",
      "\n",
      "avg log loss 18.598461538461535\n",
      "------------------\n",
      "\n",
      "epoch no. 9 of 10\n",
      "_____________\n",
      "\n",
      "w1 =  -719.8232307692309\n",
      "w2 =  -10.627692307692307\n",
      "b   =  -14.878769230769226\n",
      "\n",
      "avg log loss 18.598461538461535\n",
      "------------------\n",
      "\n",
      "epoch no. 10 of 10\n",
      "_____________\n",
      "\n",
      "w1 =  -815.2067692307694\n",
      "w2 =  -11.956153846153846\n",
      "b   =  -16.73861538461538\n",
      "\n",
      "avg log loss 18.598461538461535\n",
      "------------------\n",
      "\n"
     ]
    },
    {
     "name": "stderr",
     "output_type": "stream",
     "text": [
      "C:\\Users\\Khubaib\\AppData\\Local\\Temp\\ipykernel_19672\\4190079112.py:3: RuntimeWarning: overflow encountered in exp\n",
      "  return round(1/(1+np.exp(-y)),2)\n"
     ]
    }
   ],
   "source": [
    "#no. of epochs\n",
    "epochs = 10\n",
    "\n",
    "#learning rate\n",
    "learning_rate = 0.1\n",
    "\n",
    "#initializing weights and bias\n",
    "w1 = 1\n",
    "w2 = 0\n",
    "b = 0\n",
    "\n",
    "for i in range(epochs):\n",
    "    print(f\"epoch no. {i+1} of {epochs}\")\n",
    "    print(\"_____________\")\n",
    "    print()\n",
    "    print(\"w1 = \",w1)\n",
    "    print(\"w2 = \",w2)\n",
    "    print(\"b   = \",b)\n",
    "    print()\n",
    "    #print avg log loss\n",
    "    print(\"avg log loss\",log_loss(X,y,w1,w2,b,13))\n",
    "    print(\"------------------\")\n",
    "    #updating weights and bias\n",
    "    w1 = w1 - learning_rate * derivative_w1(X,y,w1,w2,b,13)\n",
    "    w2 = w2 - learning_rate * derivative_w2(X,y,w1,w2,b,13)\n",
    "    b = b - learning_rate * derivative_b(X,y,w1,w2,b,13)\n",
    "    print()\n",
    "    \n",
    "    \n"
   ]
  },
  {
   "cell_type": "code",
   "execution_count": 30,
   "metadata": {},
   "outputs": [],
   "source": [
    "#to predict new instance\n",
    "def predict(age,affordability):\n",
    "    if perceptron(age,affordability,w1,w2,b) < 0.5:\n",
    "        print(\"Not going to take insurance\")\n",
    "    else:\n",
    "        print(\"Going to take insurance\")"
   ]
  },
  {
   "cell_type": "code",
   "execution_count": 31,
   "metadata": {},
   "outputs": [
    {
     "name": "stdout",
     "output_type": "stream",
     "text": [
      "Not going to take insurance\n"
     ]
    },
    {
     "name": "stderr",
     "output_type": "stream",
     "text": [
      "C:\\Users\\Khubaib\\AppData\\Local\\Temp\\ipykernel_19672\\4190079112.py:3: RuntimeWarning: overflow encountered in exp\n",
      "  return round(1/(1+np.exp(-y)),2)\n"
     ]
    }
   ],
   "source": [
    "predict(20,1)"
   ]
  }
 ],
 "metadata": {
  "kernelspec": {
   "display_name": "Python 3",
   "language": "python",
   "name": "python3"
  },
  "language_info": {
   "codemirror_mode": {
    "name": "ipython",
    "version": 3
   },
   "file_extension": ".py",
   "mimetype": "text/x-python",
   "name": "python",
   "nbconvert_exporter": "python",
   "pygments_lexer": "ipython3",
   "version": "3.11.2"
  },
  "orig_nbformat": 4
 },
 "nbformat": 4,
 "nbformat_minor": 2
}
